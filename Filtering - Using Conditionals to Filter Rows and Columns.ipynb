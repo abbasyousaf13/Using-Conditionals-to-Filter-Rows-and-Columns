{
 "cells": [
  {
   "cell_type": "code",
   "execution_count": 5,
   "id": "25b963f3",
   "metadata": {},
   "outputs": [],
   "source": [
    "presidents = {\n",
    "    \"name\" : [\"Barack Obama\", 'Donuld Trump', 'Joe Biden'],\n",
    "    \"term\" : [\"44th U.S. President\", '45th U.S. President', '46th U.S. President'],\n",
    "    \"party\" : [\"Democratic Party\", 'Republican Party', 'Democratic Party']\n",
    "}"
   ]
  },
  {
   "cell_type": "code",
   "execution_count": 6,
   "id": "7dfd5428",
   "metadata": {},
   "outputs": [],
   "source": [
    "import pandas as pd            # importing pandas"
   ]
  },
  {
   "cell_type": "code",
   "execution_count": 7,
   "id": "24b7077e",
   "metadata": {},
   "outputs": [],
   "source": [
    "df = pd.DataFrame(presidents)       # loading DataFramne"
   ]
  },
  {
   "cell_type": "code",
   "execution_count": 8,
   "id": "f6c004c2",
   "metadata": {},
   "outputs": [
    {
     "data": {
      "text/html": [
       "<div>\n",
       "<style scoped>\n",
       "    .dataframe tbody tr th:only-of-type {\n",
       "        vertical-align: middle;\n",
       "    }\n",
       "\n",
       "    .dataframe tbody tr th {\n",
       "        vertical-align: top;\n",
       "    }\n",
       "\n",
       "    .dataframe thead th {\n",
       "        text-align: right;\n",
       "    }\n",
       "</style>\n",
       "<table border=\"1\" class=\"dataframe\">\n",
       "  <thead>\n",
       "    <tr style=\"text-align: right;\">\n",
       "      <th></th>\n",
       "      <th>name</th>\n",
       "      <th>term</th>\n",
       "      <th>party</th>\n",
       "    </tr>\n",
       "  </thead>\n",
       "  <tbody>\n",
       "    <tr>\n",
       "      <th>0</th>\n",
       "      <td>Barack Obama</td>\n",
       "      <td>44th U.S. President</td>\n",
       "      <td>Democratic Party</td>\n",
       "    </tr>\n",
       "    <tr>\n",
       "      <th>1</th>\n",
       "      <td>Donuld Trump</td>\n",
       "      <td>45th U.S. President</td>\n",
       "      <td>Republican Party</td>\n",
       "    </tr>\n",
       "    <tr>\n",
       "      <th>2</th>\n",
       "      <td>Joe Biden</td>\n",
       "      <td>46th U.S. President</td>\n",
       "      <td>Democratic Party</td>\n",
       "    </tr>\n",
       "  </tbody>\n",
       "</table>\n",
       "</div>"
      ],
      "text/plain": [
       "           name                 term             party\n",
       "0  Barack Obama  44th U.S. President  Democratic Party\n",
       "1  Donuld Trump  45th U.S. President  Republican Party\n",
       "2     Joe Biden  46th U.S. President  Democratic Party"
      ]
     },
     "execution_count": 8,
     "metadata": {},
     "output_type": "execute_result"
    }
   ],
   "source": [
    "df              # printing dataframe"
   ]
  },
  {
   "cell_type": "code",
   "execution_count": 9,
   "id": "9aaedd08",
   "metadata": {},
   "outputs": [
    {
     "data": {
      "text/plain": [
       "0     True\n",
       "1    False\n",
       "2     True\n",
       "Name: party, dtype: bool"
      ]
     },
     "execution_count": 9,
     "metadata": {},
     "output_type": "execute_result"
    }
   ],
   "source": [
    "df['party'] == 'Democratic Party'           # return a series object"
   ]
  },
  {
   "cell_type": "code",
   "execution_count": 11,
   "id": "b0080838",
   "metadata": {},
   "outputs": [
    {
     "data": {
      "text/plain": [
       "0     True\n",
       "1    False\n",
       "2     True\n",
       "Name: party, dtype: bool"
      ]
     },
     "execution_count": 11,
     "metadata": {},
     "output_type": "execute_result"
    }
   ],
   "source": [
    "filt = df['party'] == 'Democratic Party'         # store in a variable, be sure not to name a variable 'filter'\n",
    "filt                                              #      because it is a built-in Python keyword"
   ]
  },
  {
   "cell_type": "code",
   "execution_count": 12,
   "id": "1b0c0ad3",
   "metadata": {},
   "outputs": [
    {
     "data": {
      "text/plain": [
       "0     True\n",
       "1    False\n",
       "2     True\n",
       "Name: party, dtype: bool"
      ]
     },
     "execution_count": 12,
     "metadata": {},
     "output_type": "execute_result"
    }
   ],
   "source": [
    "filt = (df['party'] == 'Democratic Party')           # wrap in parenthesis\n",
    "filt"
   ]
  },
  {
   "cell_type": "code",
   "execution_count": 13,
   "id": "78225f98",
   "metadata": {},
   "outputs": [
    {
     "data": {
      "text/html": [
       "<div>\n",
       "<style scoped>\n",
       "    .dataframe tbody tr th:only-of-type {\n",
       "        vertical-align: middle;\n",
       "    }\n",
       "\n",
       "    .dataframe tbody tr th {\n",
       "        vertical-align: top;\n",
       "    }\n",
       "\n",
       "    .dataframe thead th {\n",
       "        text-align: right;\n",
       "    }\n",
       "</style>\n",
       "<table border=\"1\" class=\"dataframe\">\n",
       "  <thead>\n",
       "    <tr style=\"text-align: right;\">\n",
       "      <th></th>\n",
       "      <th>name</th>\n",
       "      <th>term</th>\n",
       "      <th>party</th>\n",
       "    </tr>\n",
       "  </thead>\n",
       "  <tbody>\n",
       "    <tr>\n",
       "      <th>0</th>\n",
       "      <td>Barack Obama</td>\n",
       "      <td>44th U.S. President</td>\n",
       "      <td>Democratic Party</td>\n",
       "    </tr>\n",
       "    <tr>\n",
       "      <th>2</th>\n",
       "      <td>Joe Biden</td>\n",
       "      <td>46th U.S. President</td>\n",
       "      <td>Democratic Party</td>\n",
       "    </tr>\n",
       "  </tbody>\n",
       "</table>\n",
       "</div>"
      ],
      "text/plain": [
       "           name                 term             party\n",
       "0  Barack Obama  44th U.S. President  Democratic Party\n",
       "2     Joe Biden  46th U.S. President  Democratic Party"
      ]
     },
     "execution_count": 13,
     "metadata": {},
     "output_type": "execute_result"
    }
   ],
   "source": [
    "df[filt]             # applying the filter to a dataframe"
   ]
  },
  {
   "cell_type": "code",
   "execution_count": 14,
   "id": "805f49e5",
   "metadata": {},
   "outputs": [
    {
     "data": {
      "text/html": [
       "<div>\n",
       "<style scoped>\n",
       "    .dataframe tbody tr th:only-of-type {\n",
       "        vertical-align: middle;\n",
       "    }\n",
       "\n",
       "    .dataframe tbody tr th {\n",
       "        vertical-align: top;\n",
       "    }\n",
       "\n",
       "    .dataframe thead th {\n",
       "        text-align: right;\n",
       "    }\n",
       "</style>\n",
       "<table border=\"1\" class=\"dataframe\">\n",
       "  <thead>\n",
       "    <tr style=\"text-align: right;\">\n",
       "      <th></th>\n",
       "      <th>name</th>\n",
       "      <th>term</th>\n",
       "      <th>party</th>\n",
       "    </tr>\n",
       "  </thead>\n",
       "  <tbody>\n",
       "    <tr>\n",
       "      <th>0</th>\n",
       "      <td>Barack Obama</td>\n",
       "      <td>44th U.S. President</td>\n",
       "      <td>Democratic Party</td>\n",
       "    </tr>\n",
       "    <tr>\n",
       "      <th>2</th>\n",
       "      <td>Joe Biden</td>\n",
       "      <td>46th U.S. President</td>\n",
       "      <td>Democratic Party</td>\n",
       "    </tr>\n",
       "  </tbody>\n",
       "</table>\n",
       "</div>"
      ],
      "text/plain": [
       "           name                 term             party\n",
       "0  Barack Obama  44th U.S. President  Democratic Party\n",
       "2     Joe Biden  46th U.S. President  Democratic Party"
      ]
     },
     "execution_count": 14,
     "metadata": {},
     "output_type": "execute_result"
    }
   ],
   "source": [
    "df[df['party'] == 'Democratic Party']               # another way to filter a dataframe but it is quite difficult to read"
   ]
  },
  {
   "cell_type": "code",
   "execution_count": 15,
   "id": "3329c95f",
   "metadata": {},
   "outputs": [
    {
     "data": {
      "text/html": [
       "<div>\n",
       "<style scoped>\n",
       "    .dataframe tbody tr th:only-of-type {\n",
       "        vertical-align: middle;\n",
       "    }\n",
       "\n",
       "    .dataframe tbody tr th {\n",
       "        vertical-align: top;\n",
       "    }\n",
       "\n",
       "    .dataframe thead th {\n",
       "        text-align: right;\n",
       "    }\n",
       "</style>\n",
       "<table border=\"1\" class=\"dataframe\">\n",
       "  <thead>\n",
       "    <tr style=\"text-align: right;\">\n",
       "      <th></th>\n",
       "      <th>name</th>\n",
       "      <th>term</th>\n",
       "      <th>party</th>\n",
       "    </tr>\n",
       "  </thead>\n",
       "  <tbody>\n",
       "    <tr>\n",
       "      <th>0</th>\n",
       "      <td>Barack Obama</td>\n",
       "      <td>44th U.S. President</td>\n",
       "      <td>Democratic Party</td>\n",
       "    </tr>\n",
       "    <tr>\n",
       "      <th>2</th>\n",
       "      <td>Joe Biden</td>\n",
       "      <td>46th U.S. President</td>\n",
       "      <td>Democratic Party</td>\n",
       "    </tr>\n",
       "  </tbody>\n",
       "</table>\n",
       "</div>"
      ],
      "text/plain": [
       "           name                 term             party\n",
       "0  Barack Obama  44th U.S. President  Democratic Party\n",
       "2     Joe Biden  46th U.S. President  Democratic Party"
      ]
     },
     "execution_count": 15,
     "metadata": {},
     "output_type": "execute_result"
    }
   ],
   "source": [
    "df.loc[filt]                 # another way to filter using .loc indexer"
   ]
  },
  {
   "cell_type": "code",
   "execution_count": 16,
   "id": "9ee963bb",
   "metadata": {},
   "outputs": [
    {
     "data": {
      "text/plain": [
       "0    44th U.S. President\n",
       "2    46th U.S. President\n",
       "Name: term, dtype: object"
      ]
     },
     "execution_count": 16,
     "metadata": {},
     "output_type": "execute_result"
    }
   ],
   "source": [
    "df.loc[filt, 'term']              # passing the second value"
   ]
  },
  {
   "cell_type": "code",
   "execution_count": 17,
   "id": "382559f6",
   "metadata": {},
   "outputs": [],
   "source": [
    "filt = (df['party'] == 'Democratic Party') & (df['name'] == 'Joe Biden')"
   ]
  },
  {
   "cell_type": "code",
   "execution_count": 20,
   "id": "b2f496e0",
   "metadata": {},
   "outputs": [
    {
     "data": {
      "text/plain": [
       "2    46th U.S. President\n",
       "Name: term, dtype: object"
      ]
     },
     "execution_count": 20,
     "metadata": {},
     "output_type": "execute_result"
    }
   ],
   "source": [
    "df.loc[filt, 'term']"
   ]
  },
  {
   "cell_type": "code",
   "execution_count": 23,
   "id": "9c9f2864",
   "metadata": {},
   "outputs": [],
   "source": [
    "filt = (df['party'] == 'Republican Party') | (df['name'] == 'Barack Obama')"
   ]
  },
  {
   "cell_type": "code",
   "execution_count": 24,
   "id": "9a6baf93",
   "metadata": {},
   "outputs": [
    {
     "data": {
      "text/plain": [
       "0    44th U.S. President\n",
       "1    45th U.S. President\n",
       "Name: term, dtype: object"
      ]
     },
     "execution_count": 24,
     "metadata": {},
     "output_type": "execute_result"
    }
   ],
   "source": [
    "df.loc[filt, 'term']"
   ]
  },
  {
   "cell_type": "code",
   "execution_count": 25,
   "id": "d9ae7a95",
   "metadata": {},
   "outputs": [],
   "source": [
    "filt = (df['party'] == 'Republican Party') | (df['name'] == 'Barack Obama')"
   ]
  },
  {
   "cell_type": "code",
   "execution_count": 27,
   "id": "0a8f8830",
   "metadata": {},
   "outputs": [
    {
     "data": {
      "text/plain": [
       "2    46th U.S. President\n",
       "Name: term, dtype: object"
      ]
     },
     "execution_count": 27,
     "metadata": {},
     "output_type": "execute_result"
    }
   ],
   "source": [
    "df.loc[~filt, 'term']                      #       doing exact opposite by putting a tilde"
   ]
  },
  {
   "cell_type": "code",
   "execution_count": null,
   "id": "a5509ba4",
   "metadata": {},
   "outputs": [],
   "source": []
  }
 ],
 "metadata": {
  "kernelspec": {
   "display_name": "Python 3 (ipykernel)",
   "language": "python",
   "name": "python3"
  },
  "language_info": {
   "codemirror_mode": {
    "name": "ipython",
    "version": 3
   },
   "file_extension": ".py",
   "mimetype": "text/x-python",
   "name": "python",
   "nbconvert_exporter": "python",
   "pygments_lexer": "ipython3",
   "version": "3.9.7"
  }
 },
 "nbformat": 4,
 "nbformat_minor": 5
}
